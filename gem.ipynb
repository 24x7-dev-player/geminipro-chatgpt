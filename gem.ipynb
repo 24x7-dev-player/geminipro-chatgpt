{
 "cells": [
  {
   "cell_type": "code",
   "execution_count": 1,
   "metadata": {},
   "outputs": [],
   "source": [
    "!pip install -q -U google-generativeai"
   ]
  },
  {
   "cell_type": "code",
   "execution_count": 2,
   "metadata": {},
   "outputs": [
    {
     "name": "stderr",
     "output_type": "stream",
     "text": [
      "/Users/myhome/Downloads/geminipro/multi/lib/python3.11/site-packages/tqdm/auto.py:21: TqdmWarning: IProgress not found. Please update jupyter and ipywidgets. See https://ipywidgets.readthedocs.io/en/stable/user_install.html\n",
      "  from .autonotebook import tqdm as notebook_tqdm\n"
     ]
    }
   ],
   "source": [
    "import pathlib\n",
    "import textwrap\n",
    "\n",
    "import google.generativeai as genai\n",
    "\n",
    "from IPython.display import display\n",
    "from IPython.display import Markdown\n",
    "\n",
    "\n",
    "def to_markdown(text):\n",
    "  text = text.replace('•', '  *')\n",
    "  return Markdown(textwrap.indent(text, '> ', predicate=lambda _: True))"
   ]
  },
  {
   "cell_type": "code",
   "execution_count": 3,
   "metadata": {},
   "outputs": [],
   "source": [
    "from dotenv import load_dotenv\n",
    "import os\n",
    "load_dotenv()\n",
    "\n",
    "genai.configure(api_key=os.getenv(\"GOOGLE_API_KEY\"))"
   ]
  },
  {
   "cell_type": "markdown",
   "metadata": {},
   "source": []
  },
  {
   "cell_type": "code",
   "execution_count": null,
   "metadata": {},
   "outputs": [],
   "source": []
  },
  {
   "cell_type": "code",
   "execution_count": 4,
   "metadata": {},
   "outputs": [
    {
     "name": "stdout",
     "output_type": "stream",
     "text": [
      "models/gemini-1.0-pro\n",
      "models/gemini-1.0-pro-001\n",
      "models/gemini-1.0-pro-latest\n",
      "models/gemini-1.0-pro-vision-latest\n",
      "models/gemini-1.5-flash-latest\n",
      "models/gemini-1.5-pro-latest\n",
      "models/gemini-pro\n",
      "models/gemini-pro-vision\n"
     ]
    }
   ],
   "source": [
    "for m in genai.list_models():\n",
    "  if 'generateContent' in m.supported_generation_methods:\n",
    "    print(m.name)"
   ]
  },
  {
   "cell_type": "code",
   "execution_count": 5,
   "metadata": {},
   "outputs": [],
   "source": [
    "model = genai.GenerativeModel('gemini-pro')"
   ]
  },
  {
   "cell_type": "code",
   "execution_count": 6,
   "metadata": {},
   "outputs": [],
   "source": [
    "response = model.generate_content(\"What is the meaning of life?\")"
   ]
  },
  {
   "cell_type": "code",
   "execution_count": 7,
   "metadata": {},
   "outputs": [
    {
     "data": {
      "text/markdown": [
       "> The meaning of life is a deeply personal and philosophical question that has been pondered by humans for centuries. There is no one definitive answer, as the meaning of life can vary depending on individual beliefs, values, and experiences.\n",
       "> \n",
       "> Some common perspectives on the meaning of life include:\n",
       "> \n",
       "> * **Finding happiness and fulfillment:** This perspective suggests that the meaning of life is to live a happy and fulfilling life, pursuing activities and relationships that bring joy and satisfaction.\n",
       "> * **Making a positive impact on the world:** This perspective emphasizes the importance of contributing to society and leaving a positive legacy. It suggests that the meaning of life lies in using one's abilities and resources to make a difference in the world.\n",
       "> * **Self-discovery and growth:** This perspective suggests that the meaning of life is found in the journey of self-discovery and personal growth. It emphasizes the importance of reflecting on one's experiences, learning from mistakes, and striving to become the best version of oneself.\n",
       "> * **Experiencing love and connection:** This perspective highlights the importance of human connection and relationships. It suggests that the meaning of life is found in forming meaningful bonds with others, sharing love, and supporting one another.\n",
       "> * **Serving a higher purpose:** This perspective suggests that the meaning of life lies in serving a larger purpose or cause that transcends individual self-interest. It may involve pursuing spiritual beliefs, working towards social justice, or contributing to the well-being of others.\n",
       "> \n",
       "> Ultimately, the meaning of life is something that each individual must determine for themselves. There is no right or wrong answer, and what is meaningful to one person may not be meaningful to another. It is a journey of exploration, reflection, and personal growth."
      ],
      "text/plain": [
       "<IPython.core.display.Markdown object>"
      ]
     },
     "execution_count": 7,
     "metadata": {},
     "output_type": "execute_result"
    }
   ],
   "source": [
    "to_markdown(response.text)"
   ]
  },
  {
   "cell_type": "code",
   "execution_count": 9,
   "metadata": {},
   "outputs": [],
   "source": [
    "response = model.generate_content(\"What is the meaning of life?\", stream=True)"
   ]
  },
  {
   "cell_type": "code",
   "execution_count": 10,
   "metadata": {},
   "outputs": [
    {
     "name": "stdout",
     "output_type": "stream",
     "text": [
      "**Philosophical Perspectives:**\n",
      "\n",
      "* **Existentialism:** There is no inherent\n",
      "________________________________________________________________________________\n",
      " meaning in life; individuals must create their own meaning through actions and choices.\n",
      "* **Humanism:** The focus of life is on the well-being and\n",
      "________________________________________________________________________________\n",
      " fulfillment of human beings.\n",
      "* **Hedonism:** The pursuit of pleasure is the ultimate goal of life.\n",
      "* **Utilitarianism:** Actions should be judged based on the amount of happiness they produce for the greatest number of people.\n",
      "* **Stoicism:** The key to a good life lies in embracing adversity\n",
      "________________________________________________________________________________\n",
      " with fortitude and living in accordance with nature.\n",
      "\n",
      "**Religious Perspectives:**\n",
      "\n",
      "* **Christianity:** Life's purpose is to glorify God, follow Jesus Christ, and prepare for eternal life.\n",
      "* **Islam:** To worship Allah (God), submit to His will, and strive for the afterlife.\n",
      "* **Hinduism:** The purpose of life is to achieve spiritual liberation (moksha) through a cycle of birth, death, and reincarnation.\n",
      "* **Buddhism:** To end suffering (dukkha) through the practice of the Eightfold Path, leading to enlightenment (nirvana).\n",
      "\n",
      "**Scientific Perspectives:**\n",
      "\n",
      "* **\n",
      "________________________________________________________________________________\n",
      "Evolutionary Psychology:** Life's purpose is to survive and reproduce, ensuring the continuation of one's genes.\n",
      "* **Holism:** All life is interconnected, and the purpose of an individual is to contribute to the overall balance and well-being of the ecosystem.\n",
      "\n",
      "**Personal Perspectives:**\n",
      "\n",
      "* **Contribution:** Making a meaningful contribution to society or the world.\n",
      "* **Connection:** Building strong relationships and fostering a sense of community.\n",
      "* **Growth:** Continuously learning, developing, and challenging oneself.\n",
      "* **Happiness:** Pursuing activities and experiences that bring joy and fulfillment.\n",
      "* **Legacy:** Leaving behind a positive impact on others and ensuring a legacy that will be remembered.\n",
      "\n",
      "**Ultimately, the meaning of life is subjective and unique to each individual. It is an ongoing journey of discovery and self-reflection, shaped by factors such as personal values, beliefs, experiences, and aspirations.**\n",
      "________________________________________________________________________________\n"
     ]
    }
   ],
   "source": [
    "for chunk in response:\n",
    "  print(chunk.text)\n",
    "  print(\"_\"*80)"
   ]
  },
  {
   "cell_type": "code",
   "execution_count": null,
   "metadata": {},
   "outputs": [],
   "source": []
  },
  {
   "cell_type": "code",
   "execution_count": null,
   "metadata": {},
   "outputs": [],
   "source": []
  },
  {
   "cell_type": "markdown",
   "metadata": {},
   "source": [
    "# chatbot"
   ]
  },
  {
   "cell_type": "code",
   "execution_count": 4,
   "metadata": {},
   "outputs": [
    {
     "data": {
      "text/plain": [
       "ChatSession(\n",
       "    model=genai.GenerativeModel(\n",
       "        model_name='models/gemini-pro',\n",
       "        generation_config={},\n",
       "        safety_settings={},\n",
       "        tools=None,\n",
       "        system_instruction=None,\n",
       "    ),\n",
       "    history=[]\n",
       ")"
      ]
     },
     "execution_count": 4,
     "metadata": {},
     "output_type": "execute_result"
    }
   ],
   "source": [
    "model = genai.GenerativeModel('gemini-pro')\n",
    "chat = model.start_chat(history=[])\n",
    "chat"
   ]
  },
  {
   "cell_type": "code",
   "execution_count": 5,
   "metadata": {},
   "outputs": [
    {
     "data": {
      "text/markdown": [
       "> Computers follow instructions you give them to make things happen, like playing games or drawing pictures."
      ],
      "text/plain": [
       "<IPython.core.display.Markdown object>"
      ]
     },
     "execution_count": 5,
     "metadata": {},
     "output_type": "execute_result"
    }
   ],
   "source": [
    "response = chat.send_message(\"In one sentence, explain how a computer works to a young child.\")\n",
    "to_markdown(response.text)"
   ]
  },
  {
   "cell_type": "code",
   "execution_count": 6,
   "metadata": {},
   "outputs": [
    {
     "data": {
      "text/plain": [
       "[parts {\n",
       "   text: \"In one sentence, explain how a computer works to a young child.\"\n",
       " }\n",
       " role: \"user\",\n",
       " parts {\n",
       "   text: \"Computers follow instructions you give them to make things happen, like playing games or drawing pictures.\"\n",
       " }\n",
       " role: \"model\"]"
      ]
     },
     "execution_count": 6,
     "metadata": {},
     "output_type": "execute_result"
    }
   ],
   "source": [
    "chat.history"
   ]
  },
  {
   "cell_type": "code",
   "execution_count": 7,
   "metadata": {},
   "outputs": [
    {
     "name": "stdout",
     "output_type": "stream",
     "text": [
      "A computer is an electronic device that can be programmed to carry out a set of\n",
      "________________________________________________________________________________\n",
      " instructions. The basic components of a computer are the processor, memory, storage, input devices, and output devices. The processor is the \"brain\" of the\n",
      "________________________________________________________________________________\n",
      " computer and controls all of the other components. Memory stores the instructions and data that the processor is currently working on. Storage stores data that is not currently being used by the processor. Input devices allow the user to enter data into the computer, such as a keyboard or mouse. Output devices allow the computer to display or print\n",
      "________________________________________________________________________________\n",
      " data, such as a monitor or printer.\n",
      "\n",
      "When you give a computer a command, the processor fetches the instructions for that command from memory. The processor then executes the instructions, which may involve reading or writing data from or to storage, or sending data to an output device.\n",
      "\n",
      "Computers are used for a wide variety of tasks, including word processing, spreadsheets, presentations, games, and web browsing. Computers can also be used to control other devices, such as robots and manufacturing equipment.\n",
      "\n",
      "Here is a simplified analogy that may help you understand how a computer works:\n",
      "\n",
      "Imagine a computer as a chef. The processor is the chef\n",
      "________________________________________________________________________________\n",
      ", the memory is the chef's cookbook, the storage is the pantry, the input devices are the customer's orders, and the output devices are the plates of food.\n",
      "\n",
      "When a customer places an order, the chef (processor) looks up the recipe in the cookbook (memory). The chef then gathers the ingredients from the pantry (storage) and cooks the food (executes the instructions). Finally, the chef plates the food (sends the data to an output device) and serves it to the customer.\n",
      "________________________________________________________________________________\n"
     ]
    }
   ],
   "source": [
    "response = chat.send_message(\"Okay, how about a more detailed explanation to a high schooler?\", stream=True)\n",
    "\n",
    "for chunk in response:\n",
    "  print(chunk.text)\n",
    "  print(\"_\"*80)"
   ]
  },
  {
   "cell_type": "code",
   "execution_count": 8,
   "metadata": {},
   "outputs": [
    {
     "data": {
      "text/markdown": [
       "> **user**: In one sentence, explain how a computer works to a young child."
      ],
      "text/plain": [
       "<IPython.core.display.Markdown object>"
      ]
     },
     "metadata": {},
     "output_type": "display_data"
    },
    {
     "data": {
      "text/markdown": [
       "> **model**: Computers follow instructions you give them to make things happen, like playing games or drawing pictures."
      ],
      "text/plain": [
       "<IPython.core.display.Markdown object>"
      ]
     },
     "metadata": {},
     "output_type": "display_data"
    },
    {
     "data": {
      "text/markdown": [
       "> **user**: Okay, how about a more detailed explanation to a high schooler?"
      ],
      "text/plain": [
       "<IPython.core.display.Markdown object>"
      ]
     },
     "metadata": {},
     "output_type": "display_data"
    },
    {
     "data": {
      "text/markdown": [
       "> **model**: A computer is an electronic device that can be programmed to carry out a set of instructions. The basic components of a computer are the processor, memory, storage, input devices, and output devices. The processor is the \"brain\" of the computer and controls all of the other components. Memory stores the instructions and data that the processor is currently working on. Storage stores data that is not currently being used by the processor. Input devices allow the user to enter data into the computer, such as a keyboard or mouse. Output devices allow the computer to display or print data, such as a monitor or printer.\n",
       "> \n",
       "> When you give a computer a command, the processor fetches the instructions for that command from memory. The processor then executes the instructions, which may involve reading or writing data from or to storage, or sending data to an output device.\n",
       "> \n",
       "> Computers are used for a wide variety of tasks, including word processing, spreadsheets, presentations, games, and web browsing. Computers can also be used to control other devices, such as robots and manufacturing equipment.\n",
       "> \n",
       "> Here is a simplified analogy that may help you understand how a computer works:\n",
       "> \n",
       "> Imagine a computer as a chef. The processor is the chef, the memory is the chef's cookbook, the storage is the pantry, the input devices are the customer's orders, and the output devices are the plates of food.\n",
       "> \n",
       "> When a customer places an order, the chef (processor) looks up the recipe in the cookbook (memory). The chef then gathers the ingredients from the pantry (storage) and cooks the food (executes the instructions). Finally, the chef plates the food (sends the data to an output device) and serves it to the customer."
      ],
      "text/plain": [
       "<IPython.core.display.Markdown object>"
      ]
     },
     "metadata": {},
     "output_type": "display_data"
    }
   ],
   "source": [
    "for message in chat.history:\n",
    "  display(to_markdown(f'**{message.role}**: {message.parts[0].text}'))"
   ]
  },
  {
   "cell_type": "code",
   "execution_count": null,
   "metadata": {},
   "outputs": [],
   "source": []
  },
  {
   "cell_type": "markdown",
   "metadata": {},
   "source": [
    "# Markdown"
   ]
  },
  {
   "cell_type": "markdown",
   "metadata": {},
   "source": []
  },
  {
   "cell_type": "code",
   "execution_count": 9,
   "metadata": {},
   "outputs": [
    {
     "name": "stdout",
     "output_type": "stream",
     "text": [
      "[-0.003216741, -0.013358698, -0.017649598, -0.0091 ... TRIMMED]\n"
     ]
    }
   ],
   "source": [
    "result = genai.embed_content(\n",
    "    model=\"models/embedding-001\",\n",
    "    content=\"What is the meaning of life?\",\n",
    "    task_type=\"retrieval_document\",\n",
    "    title=\"Embedding of single string\")\n",
    "\n",
    "# 1 input > 1 vector output\n",
    "print(str(result['embedding'])[:50], '... TRIMMED]')"
   ]
  },
  {
   "cell_type": "code",
   "execution_count": 10,
   "metadata": {},
   "outputs": [
    {
     "name": "stdout",
     "output_type": "stream",
     "text": [
      "[0.0040260437, 0.004124458, -0.014209415, -0.00183 ... TRIMMED ...\n",
      "[-0.004049845, -0.0075574904, -0.0073463684, -0.03 ... TRIMMED ...\n",
      "[0.025310587, -0.0080734305, -0.029902633, 0.01160 ... TRIMMED ...\n"
     ]
    }
   ],
   "source": [
    "result = genai.embed_content(\n",
    "    model=\"models/embedding-001\",\n",
    "    content=[\n",
    "      'What is the meaning of life?',\n",
    "      'How much wood would a woodchuck chuck?',\n",
    "      'How does the brain work?'],\n",
    "    task_type=\"retrieval_document\",\n",
    "    title=\"Embedding of list of strings\")\n",
    "\n",
    "# A list of inputs > A list of vectors output\n",
    "for v in result['embedding']:\n",
    "  print(str(v)[:50], '... TRIMMED ...')"
   ]
  },
  {
   "cell_type": "code",
   "execution_count": 11,
   "metadata": {},
   "outputs": [
    {
     "data": {
      "text/plain": [
       "parts {\n",
       "  text: \"A computer is an electronic device that can be programmed to carry out a set of instructions. The basic components of a computer are the processor, memory, storage, input devices, and output devices. The processor is the \\\"brain\\\" of the computer and controls all of the other components. Memory stores the instructions and data that the processor is currently working on. Storage stores data that is not currently being used by the processor. Input devices allow the user to enter data into the computer, such as a keyboard or mouse. Output devices allow the computer to display or print data, such as a monitor or printer.\\n\\nWhen you give a computer a command, the processor fetches the instructions for that command from memory. The processor then executes the instructions, which may involve reading or writing data from or to storage, or sending data to an output device.\\n\\nComputers are used for a wide variety of tasks, including word processing, spreadsheets, presentations, games, and web browsing. Computers can also be used to control other devices, such as robots and manufacturing equipment.\\n\\nHere is a simplified analogy that may help you understand how a computer works:\\n\\nImagine a computer as a chef. The processor is the chef, the memory is the chef\\'s cookbook, the storage is the pantry, the input devices are the customer\\'s orders, and the output devices are the plates of food.\\n\\nWhen a customer places an order, the chef (processor) looks up the recipe in the cookbook (memory). The chef then gathers the ingredients from the pantry (storage) and cooks the food (executes the instructions). Finally, the chef plates the food (sends the data to an output device) and serves it to the customer.\"\n",
       "}\n",
       "role: \"model\""
      ]
     },
     "execution_count": 11,
     "metadata": {},
     "output_type": "execute_result"
    }
   ],
   "source": [
    "response.candidates[0].content"
   ]
  },
  {
   "cell_type": "code",
   "execution_count": 12,
   "metadata": {},
   "outputs": [
    {
     "name": "stdout",
     "output_type": "stream",
     "text": [
      "[-0.011878223, -0.030092835, 0.014276275, 0.014449 ... TRIMMED ...\n"
     ]
    }
   ],
   "source": [
    "result = genai.embed_content(\n",
    "    model = 'models/embedding-001',\n",
    "    content = response.candidates[0].content)\n",
    "\n",
    "# 1 input > 1 vector output\n",
    "print(str(result['embedding'])[:50], '... TRIMMED ...')"
   ]
  },
  {
   "cell_type": "code",
   "execution_count": 13,
   "metadata": {},
   "outputs": [
    {
     "data": {
      "text/plain": [
       "[parts {\n",
       "   text: \"In one sentence, explain how a computer works to a young child.\"\n",
       " }\n",
       " role: \"user\",\n",
       " parts {\n",
       "   text: \"Computers follow instructions you give them to make things happen, like playing games or drawing pictures.\"\n",
       " }\n",
       " role: \"model\",\n",
       " parts {\n",
       "   text: \"Okay, how about a more detailed explanation to a high schooler?\"\n",
       " }\n",
       " role: \"user\",\n",
       " parts {\n",
       "   text: \"A computer is an electronic device that can be programmed to carry out a set of instructions. The basic components of a computer are the processor, memory, storage, input devices, and output devices. The processor is the \\\"brain\\\" of the computer and controls all of the other components. Memory stores the instructions and data that the processor is currently working on. Storage stores data that is not currently being used by the processor. Input devices allow the user to enter data into the computer, such as a keyboard or mouse. Output devices allow the computer to display or print data, such as a monitor or printer.\\n\\nWhen you give a computer a command, the processor fetches the instructions for that command from memory. The processor then executes the instructions, which may involve reading or writing data from or to storage, or sending data to an output device.\\n\\nComputers are used for a wide variety of tasks, including word processing, spreadsheets, presentations, games, and web browsing. Computers can also be used to control other devices, such as robots and manufacturing equipment.\\n\\nHere is a simplified analogy that may help you understand how a computer works:\\n\\nImagine a computer as a chef. The processor is the chef, the memory is the chef\\'s cookbook, the storage is the pantry, the input devices are the customer\\'s orders, and the output devices are the plates of food.\\n\\nWhen a customer places an order, the chef (processor) looks up the recipe in the cookbook (memory). The chef then gathers the ingredients from the pantry (storage) and cooks the food (executes the instructions). Finally, the chef plates the food (sends the data to an output device) and serves it to the customer.\"\n",
       " }\n",
       " role: \"model\"]"
      ]
     },
     "execution_count": 13,
     "metadata": {},
     "output_type": "execute_result"
    }
   ],
   "source": [
    "chat.history"
   ]
  },
  {
   "cell_type": "code",
   "execution_count": 14,
   "metadata": {},
   "outputs": [
    {
     "name": "stdout",
     "output_type": "stream",
     "text": [
      "[-0.014632266, -0.042202696, -0.015757175, 0.01548 ... TRIMMED...\n",
      "[-0.0149257025, -0.020332573, 5.488864e-05, 0.0293 ... TRIMMED...\n",
      "[-0.010055617, -0.07208932, -0.00011750793, -0.023 ... TRIMMED...\n",
      "[-0.011878223, -0.030092835, 0.014276275, 0.014449 ... TRIMMED...\n"
     ]
    }
   ],
   "source": [
    "result = genai.embed_content(\n",
    "    model = 'models/embedding-001',\n",
    "    content = chat.history)\n",
    "\n",
    "# 1 input > 1 vector output\n",
    "for i,v in enumerate(result['embedding']):\n",
    "  print(str(v)[:50], '... TRIMMED...')"
   ]
  },
  {
   "cell_type": "code",
   "execution_count": null,
   "metadata": {},
   "outputs": [],
   "source": []
  }
 ],
 "metadata": {
  "kernelspec": {
   "display_name": "Python 3",
   "language": "python",
   "name": "python3"
  },
  "language_info": {
   "codemirror_mode": {
    "name": "ipython",
    "version": 3
   },
   "file_extension": ".py",
   "mimetype": "text/x-python",
   "name": "python",
   "nbconvert_exporter": "python",
   "pygments_lexer": "ipython3",
   "version": "3.11.9"
  }
 },
 "nbformat": 4,
 "nbformat_minor": 2
}
